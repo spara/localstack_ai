{
 "cells": [
  {
   "cell_type": "markdown",
   "id": "e31b3977-93d3-4da0-8ea0-9131da2cf098",
   "metadata": {},
   "source": [
    "Example for a completion using the OpenAI API"
   ]
  },
  {
   "cell_type": "code",
   "execution_count": null,
   "id": "928f3379-5ab9-46d9-b0d0-5b7be7e6d045",
   "metadata": {},
   "outputs": [],
   "source": [
    "import requests, json\n",
    "\n",
    "server = \"http://llamafile:8080/v1/chat/completions\"\n",
    "\n",
    "headers ={\"Content-Type\": \"application/json\"}\n",
    "data = {\n",
    "         \"model\": \"gpt-3.5-turbo\",\n",
    "         \"messages\": [\n",
    "           {\n",
    "              \"role\": \"system\",\n",
    "              \"content\": \"You are a poetic assistant, skilled in explaining complex programming concepts with creative flair.\"\n",
    "           },\n",
    "           {\n",
    "              \"role\": \"user\",\n",
    "              \"content\": \"Compose a poem that explains the concept of recursion in programming.\"\n",
    "           }\n",
    "         ]\n",
    "       } \n",
    "\n",
    "response = requests.post(server, headers=headers, json=data)\n",
    "\n",
    "print(response.json()[\"choices\"][0][\"message\"][\"content\"])"
   ]
  }
 ],
 "metadata": {
  "kernelspec": {
   "display_name": "Python 3 (ipykernel)",
   "language": "python",
   "name": "python3"
  },
  "language_info": {
   "codemirror_mode": {
    "name": "ipython",
    "version": 3
   },
   "file_extension": ".py",
   "mimetype": "text/x-python",
   "name": "python",
   "nbconvert_exporter": "python",
   "pygments_lexer": "ipython3",
   "version": "3.11.7"
  }
 },
 "nbformat": 4,
 "nbformat_minor": 5
}
