{
 "cells": [
  {
   "cell_type": "markdown",
   "id": "11b7dd68-7b20-4de8-a645-996aa4fd9a79",
   "metadata": {},
   "source": [
    "Pull a foundation model for ollama. Note: sending download messages froms stdout to /dev/null."
   ]
  },
  {
   "cell_type": "code",
   "execution_count": null,
   "id": "7fea812d-d306-4e59-b815-5d34e86be44b",
   "metadata": {},
   "outputs": [],
   "source": [
    "!curl http://ollama:11434/api/pull -d '{\"name\": \"orca-mini\"}' > /dev/null"
   ]
  },
  {
   "cell_type": "code",
   "execution_count": null,
   "id": "20ce4c3e-e7f3-400e-856a-143ac45a8e20",
   "metadata": {},
   "outputs": [],
   "source": [
    "Example query:"
   ]
  },
  {
   "cell_type": "code",
   "execution_count": null,
   "id": "5284c58a-488f-43ae-8d43-7b8f3b901672",
   "metadata": {},
   "outputs": [],
   "source": [
    "from langchain.llms import Ollama\n",
    "ollama = Ollama(base_url='http://ollama:11434',\n",
    "model=\"orca-mini\")\n",
    "print(ollama(\"why is the sky blue\"))"
   ]
  },
  {
   "cell_type": "code",
   "execution_count": null,
   "id": "090aad7c-c4f1-4b90-8850-b7166e3a81f8",
   "metadata": {},
   "outputs": [],
   "source": [
    "Eample query with streaming completion"
   ]
  },
  {
   "cell_type": "code",
   "execution_count": null,
   "id": "d5e229b9-b2da-40b9-9630-86b83a7497e8",
   "metadata": {},
   "outputs": [],
   "source": [
    "!curl http://ollama:11434/api/pull -d '{\"name\": \"llama2\"}' > /dev/null"
   ]
  },
  {
   "cell_type": "code",
   "execution_count": null,
   "id": "78425945-ed77-4952-9804-fc195b87c97a",
   "metadata": {},
   "outputs": [],
   "source": [
    "from langchain.llms import Ollama\n",
    "from langchain.callbacks.manager import CallbackManager\n",
    "from langchain.callbacks.streaming_stdout import StreamingStdOutCallbackHandler                                  \n",
    "llm = Ollama(model=\"llama2\",\n",
    "             base_url='http://ollama:11434',\n",
    "             callback_manager = CallbackManager([StreamingStdOutCallbackHandler()]))\n",
    "\n",
    "llm(\"Why is the sky blue?\")\n"
   ]
  }
 ],
 "metadata": {
  "kernelspec": {
   "display_name": "Python 3 (ipykernel)",
   "language": "python",
   "name": "python3"
  },
  "language_info": {
   "codemirror_mode": {
    "name": "ipython",
    "version": 3
   },
   "file_extension": ".py",
   "mimetype": "text/x-python",
   "name": "python",
   "nbconvert_exporter": "python",
   "pygments_lexer": "ipython3",
   "version": "3.11.6"
  }
 },
 "nbformat": 4,
 "nbformat_minor": 5
}
